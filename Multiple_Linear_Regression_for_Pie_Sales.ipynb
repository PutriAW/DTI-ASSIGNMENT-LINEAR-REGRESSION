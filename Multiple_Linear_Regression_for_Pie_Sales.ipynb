{
  "nbformat": 4,
  "nbformat_minor": 0,
  "metadata": {
    "colab": {
      "name": "Multiple Linear Regression for Pie Sales.ipynb",
      "provenance": [],
      "authorship_tag": "ABX9TyNBIb8J/qEkJkQd53vCmQVl",
      "include_colab_link": true
    },
    "kernelspec": {
      "name": "python3",
      "display_name": "Python 3"
    }
  },
  "cells": [
    {
      "cell_type": "markdown",
      "metadata": {
        "id": "view-in-github",
        "colab_type": "text"
      },
      "source": [
        "<a href=\"https://colab.research.google.com/github/PutriAW/DTI-ASSIGNMENT-LINEAR-REGRESSION/blob/main/Multiple_Linear_Regression_for_Pie_Sales.ipynb\" target=\"_parent\"><img src=\"https://colab.research.google.com/assets/colab-badge.svg\" alt=\"Open In Colab\"/></a>"
      ]
    },
    {
      "cell_type": "markdown",
      "metadata": {
        "id": "oC4k61whdeqK"
      },
      "source": [
        "## **Multiple Linear Regression for Pie Sales Data**\n",
        "Created By Putri Apriyanti Windya \n",
        " (DS0124 - Data Scientist 01)"
      ]
    },
    {
      "cell_type": "markdown",
      "metadata": {
        "id": "n3InrzToibQT"
      },
      "source": [
        "# **Description**\n",
        "\n",
        "---\n",
        "\n",
        "\n",
        "There are 15 rows in pie-sales.csv. It has 4 major variables, there are:\n",
        "\n",
        "\n",
        "*   week : week- n\n",
        "*   sales : number of sold out pie at week-n\n",
        "*  price : price for one item\n",
        "* advetising : advertising cost \n",
        "\n"
      ]
    },
    {
      "cell_type": "markdown",
      "metadata": {
        "id": "UQavA7oLjdDX"
      },
      "source": [
        "# **Problem to Solve**\n",
        "\n",
        "---\n",
        "\n",
        "\n",
        "owner want to know the prediction of sales based on price and advertising by using multiple linear regression.\n",
        "\n"
      ]
    },
    {
      "cell_type": "markdown",
      "metadata": {
        "id": "odt9EXXSkgP0"
      },
      "source": [
        "# **Data Exploration**\n",
        "\n"
      ]
    },
    {
      "cell_type": "markdown",
      "metadata": {
        "id": "_jw8hBI3d9l4"
      },
      "source": [
        "**Import All Libraries that Needed**"
      ]
    },
    {
      "cell_type": "code",
      "metadata": {
        "id": "MVKEoc6sd2k4",
        "outputId": "83ad5709-1379-42c0-ed40-ecaa0a5a9ca0",
        "colab": {
          "base_uri": "https://localhost:8080/",
          "height": 70
        }
      },
      "source": [
        "import pandas as pd\n",
        "import statsmodels.api as sm\n",
        "import seaborn as sns\n",
        "import matplotlib.pyplot as plt\n",
        "import warnings\n",
        "from sklearn import linear_model\n",
        "\n",
        "warnings.filterwarnings('ignore')\n",
        "plt.rcParams['figure.figsize'] = (7, 7)\n",
        "plt.style.use('ggplot')"
      ],
      "execution_count": 1,
      "outputs": [
        {
          "output_type": "stream",
          "text": [
            "/usr/local/lib/python3.6/dist-packages/statsmodels/tools/_testing.py:19: FutureWarning: pandas.util.testing is deprecated. Use the functions in the public API at pandas.testing instead.\n",
            "  import pandas.util.testing as tm\n"
          ],
          "name": "stderr"
        }
      ]
    },
    {
      "cell_type": "markdown",
      "metadata": {
        "id": "o7x_NI29eDh7"
      },
      "source": [
        "**Import Dataset from this link https://raw.githubusercontent.com/rc-dbe/dti/main/data/pie-sales.csv** "
      ]
    },
    {
      "cell_type": "code",
      "metadata": {
        "id": "czyQsN-ZePqi",
        "outputId": "dd06f4dc-d5ea-4f48-b322-7b5cc22fc8f8",
        "colab": {
          "base_uri": "https://localhost:8080/",
          "height": 497
        }
      },
      "source": [
        "datas = pd.read_csv('https://raw.githubusercontent.com/rc-dbe/dti/main/data/pie-sales.csv', sep =\";\")\n",
        "datas"
      ],
      "execution_count": 3,
      "outputs": [
        {
          "output_type": "execute_result",
          "data": {
            "text/html": [
              "<div>\n",
              "<style scoped>\n",
              "    .dataframe tbody tr th:only-of-type {\n",
              "        vertical-align: middle;\n",
              "    }\n",
              "\n",
              "    .dataframe tbody tr th {\n",
              "        vertical-align: top;\n",
              "    }\n",
              "\n",
              "    .dataframe thead th {\n",
              "        text-align: right;\n",
              "    }\n",
              "</style>\n",
              "<table border=\"1\" class=\"dataframe\">\n",
              "  <thead>\n",
              "    <tr style=\"text-align: right;\">\n",
              "      <th></th>\n",
              "      <th>week</th>\n",
              "      <th>pie_sales</th>\n",
              "      <th>price</th>\n",
              "      <th>advertising</th>\n",
              "    </tr>\n",
              "  </thead>\n",
              "  <tbody>\n",
              "    <tr>\n",
              "      <th>0</th>\n",
              "      <td>1</td>\n",
              "      <td>350</td>\n",
              "      <td>5.5</td>\n",
              "      <td>3.3</td>\n",
              "    </tr>\n",
              "    <tr>\n",
              "      <th>1</th>\n",
              "      <td>2</td>\n",
              "      <td>460</td>\n",
              "      <td>7.5</td>\n",
              "      <td>3.3</td>\n",
              "    </tr>\n",
              "    <tr>\n",
              "      <th>2</th>\n",
              "      <td>3</td>\n",
              "      <td>350</td>\n",
              "      <td>8.0</td>\n",
              "      <td>3.0</td>\n",
              "    </tr>\n",
              "    <tr>\n",
              "      <th>3</th>\n",
              "      <td>4</td>\n",
              "      <td>430</td>\n",
              "      <td>8.0</td>\n",
              "      <td>4.5</td>\n",
              "    </tr>\n",
              "    <tr>\n",
              "      <th>4</th>\n",
              "      <td>5</td>\n",
              "      <td>350</td>\n",
              "      <td>6.8</td>\n",
              "      <td>3.0</td>\n",
              "    </tr>\n",
              "    <tr>\n",
              "      <th>5</th>\n",
              "      <td>6</td>\n",
              "      <td>380</td>\n",
              "      <td>7.5</td>\n",
              "      <td>4.0</td>\n",
              "    </tr>\n",
              "    <tr>\n",
              "      <th>6</th>\n",
              "      <td>7</td>\n",
              "      <td>430</td>\n",
              "      <td>4.5</td>\n",
              "      <td>3.0</td>\n",
              "    </tr>\n",
              "    <tr>\n",
              "      <th>7</th>\n",
              "      <td>8</td>\n",
              "      <td>470</td>\n",
              "      <td>6.4</td>\n",
              "      <td>3.7</td>\n",
              "    </tr>\n",
              "    <tr>\n",
              "      <th>8</th>\n",
              "      <td>9</td>\n",
              "      <td>450</td>\n",
              "      <td>7.0</td>\n",
              "      <td>3.5</td>\n",
              "    </tr>\n",
              "    <tr>\n",
              "      <th>9</th>\n",
              "      <td>10</td>\n",
              "      <td>490</td>\n",
              "      <td>5.0</td>\n",
              "      <td>4.0</td>\n",
              "    </tr>\n",
              "    <tr>\n",
              "      <th>10</th>\n",
              "      <td>11</td>\n",
              "      <td>340</td>\n",
              "      <td>7.2</td>\n",
              "      <td>3.5</td>\n",
              "    </tr>\n",
              "    <tr>\n",
              "      <th>11</th>\n",
              "      <td>12</td>\n",
              "      <td>300</td>\n",
              "      <td>7.9</td>\n",
              "      <td>3.2</td>\n",
              "    </tr>\n",
              "    <tr>\n",
              "      <th>12</th>\n",
              "      <td>13</td>\n",
              "      <td>440</td>\n",
              "      <td>5.9</td>\n",
              "      <td>4.0</td>\n",
              "    </tr>\n",
              "    <tr>\n",
              "      <th>13</th>\n",
              "      <td>14</td>\n",
              "      <td>450</td>\n",
              "      <td>5.0</td>\n",
              "      <td>3.5</td>\n",
              "    </tr>\n",
              "    <tr>\n",
              "      <th>14</th>\n",
              "      <td>15</td>\n",
              "      <td>300</td>\n",
              "      <td>7.0</td>\n",
              "      <td>2.7</td>\n",
              "    </tr>\n",
              "  </tbody>\n",
              "</table>\n",
              "</div>"
            ],
            "text/plain": [
              "    week  pie_sales  price  advertising\n",
              "0      1        350    5.5          3.3\n",
              "1      2        460    7.5          3.3\n",
              "2      3        350    8.0          3.0\n",
              "3      4        430    8.0          4.5\n",
              "4      5        350    6.8          3.0\n",
              "5      6        380    7.5          4.0\n",
              "6      7        430    4.5          3.0\n",
              "7      8        470    6.4          3.7\n",
              "8      9        450    7.0          3.5\n",
              "9     10        490    5.0          4.0\n",
              "10    11        340    7.2          3.5\n",
              "11    12        300    7.9          3.2\n",
              "12    13        440    5.9          4.0\n",
              "13    14        450    5.0          3.5\n",
              "14    15        300    7.0          2.7"
            ]
          },
          "metadata": {
            "tags": []
          },
          "execution_count": 3
        }
      ]
    },
    {
      "cell_type": "markdown",
      "metadata": {
        "id": "KR9vXC0VyUyz"
      },
      "source": [
        "**Plot Data to Check pie_sales frequency**"
      ]
    },
    {
      "cell_type": "code",
      "metadata": {
        "id": "A3gdzobzykJD",
        "outputId": "43f9d375-a494-4135-9ad6-957d16f7e1cf",
        "colab": {
          "base_uri": "https://localhost:8080/",
          "height": 742
        }
      },
      "source": [
        "# plot all data\n",
        "sns.set_palette('colorblind')\n",
        "sns.pairplot(data=datas)"
      ],
      "execution_count": 18,
      "outputs": [
        {
          "output_type": "execute_result",
          "data": {
            "text/plain": [
              "<seaborn.axisgrid.PairGrid at 0x7fea060f6ac8>"
            ]
          },
          "metadata": {
            "tags": []
          },
          "execution_count": 18
        },
        {
          "output_type": "display_data",
          "data": {
            "image/png": "[encoded data removed]",
            "text/plain": [
              "<Figure size 720x720 with 20 Axes>"
            ]
          },
          "metadata": {
            "tags": [],
            "needs_background": "light"
          }
        }
      ]
    },
    {
      "cell_type": "code",
      "metadata": {
        "id": "EiIth-16okMe",
        "outputId": "edeff55c-0df1-4c59-aeb4-fad8e4f6cfd3",
        "colab": {
          "base_uri": "https://localhost:8080/",
          "height": 385
        }
      },
      "source": [
        "# plot pie_sales data using histogram to check it frequency\n",
        "sns.displot(datas, x=\"pie_sales\", binwidth=15)\n"
      ],
      "execution_count": 21,
      "outputs": [
        {
          "output_type": "execute_result",
          "data": {
            "text/plain": [
              "<seaborn.axisgrid.FacetGrid at 0x7fea059f5c88>"
            ]
          },
          "metadata": {
            "tags": []
          },
          "execution_count": 21
        },
        {
          "output_type": "display_data",
          "data": {
            "image/png": "[encoded data removed]",
            "text/plain": [
              "<Figure size 360x360 with 1 Axes>"
            ]
          },
          "metadata": {
            "tags": [],
            "needs_background": "light"
          }
        }
      ]
    },
    {
      "cell_type": "markdown",
      "metadata": {
        "id": "wi3LEI3ZkxKl"
      },
      "source": [
        "**Check Correlation Between Variables using sns**"
      ]
    },
    {
      "cell_type": "code",
      "metadata": {
        "id": "HsDilaRyfKGh",
        "outputId": "e5f3f3a0-1a48-4409-f093-1f79e4152729",
        "colab": {
          "base_uri": "https://localhost:8080/",
          "height": 293
        }
      },
      "source": [
        "'''check all correlation between variables to take next step. when the color closed to 1 its means that the correlation is positive \n",
        "and if the color closed to -0.4 its means that the correlation is negative\n",
        "''' \n",
        "sns.heatmap(datas.corr(), cmap='Reds')"
      ],
      "execution_count": 5,
      "outputs": [
        {
          "output_type": "execute_result",
          "data": {
            "text/plain": [
              "<matplotlib.axes._subplots.AxesSubplot at 0x7fea0fa4c128>"
            ]
          },
          "metadata": {
            "tags": []
          },
          "execution_count": 5
        },
        {
          "output_type": "display_data",
          "data": {
            "image/png": "[encoded data removed]",
            "text/plain": [
              "<Figure size 432x288 with 2 Axes>"
            ]
          },
          "metadata": {
            "tags": [],
            "needs_background": "light"
          }
        }
      ]
    },
    {
      "cell_type": "code",
      "metadata": {
        "id": "5AoJ7ASB48rd",
        "outputId": "389f1ca4-339f-49d0-9017-fcd255e651c3",
        "colab": {
          "base_uri": "https://localhost:8080/",
          "height": 50
        }
      },
      "source": [
        "#Display Correlation Value of Price and Advertising to pie_sales\n",
        "print(\"Correlation between Price and Pie_sales : \",datas.price.corr(datas.pie_sales))\n",
        "print(\"Correlation between Advertising and Pie_sales : \",datas.advertising.corr(datas.pie_sales))"
      ],
      "execution_count": 32,
      "outputs": [
        {
          "output_type": "stream",
          "text": [
            "Correlation between Price and Pie_sales :  -0.4432731827387206\n",
            "Correlation between Advertising and Pie_sales :  0.556319857168117\n"
          ],
          "name": "stdout"
        }
      ]
    },
    {
      "cell_type": "markdown",
      "metadata": {
        "id": "GVjp24pPoorH"
      },
      "source": [
        "**Visualize Data**"
      ]
    },
    {
      "cell_type": "code",
      "metadata": {
        "id": "awsVUVlwtMV0",
        "outputId": "5b68f713-4719-4d85-8a5c-4ef7f176e832",
        "colab": {
          "base_uri": "https://localhost:8080/",
          "height": 210
        }
      },
      "source": [
        "# plot price and advertising to prove it's positive and negative correlation\n",
        "x = datas[['price','advertising']] \n",
        "y = datas['pie_sales']\n",
        "PairPlot = sns.PairGrid(datas, x_vars=['price','advertising'], y_vars=['pie_sales'])\n",
        "PairPlot.map(sns.regplot)"
      ],
      "execution_count": 13,
      "outputs": [
        {
          "output_type": "execute_result",
          "data": {
            "text/plain": [
              "<seaborn.axisgrid.PairGrid at 0x7fea063a3be0>"
            ]
          },
          "metadata": {
            "tags": []
          },
          "execution_count": 13
        },
        {
          "output_type": "display_data",
          "data": {
            "image/png": "[encoded data removed]",
            "text/plain": [
              "<Figure size 360x180 with 2 Axes>"
            ]
          },
          "metadata": {
            "tags": [],
            "needs_background": "light"
          }
        }
      ]
    },
    {
      "cell_type": "markdown",
      "metadata": {
        "id": "JnHdcJVvvmeh"
      },
      "source": [
        "* From plot above we can conclude that price has negative correlation to pie sales, which means that when price decreased so pie_sales will be increased\n",
        "* from right one plot (Plot between pie_sales and advertising), we can conclude that advertising has positive correlation to pie_sales, which means that when we increase advertising so pie sales will be increase too."
      ]
    },
    {
      "cell_type": "markdown",
      "metadata": {
        "id": "qGJhNFZWzu9k"
      },
      "source": [
        "# Modelling Solution"
      ]
    },
    {
      "cell_type": "markdown",
      "metadata": {
        "id": "DvPYhWyDz2Bh"
      },
      "source": [
        "**Regression Using Sklearn**"
      ]
    },
    {
      "cell_type": "code",
      "metadata": {
        "id": "L1YeiX9oz-hH",
        "outputId": "6eaf50a0-3aa5-4c9a-b431-5dce3731f9d1",
        "colab": {
          "base_uri": "https://localhost:8080/",
          "height": 33
        }
      },
      "source": [
        "# from variable x and y above, we will try it to multiple regression function\n",
        "regr = linear_model.LinearRegression()\n",
        "regr.fit(x, y)"
      ],
      "execution_count": 25,
      "outputs": [
        {
          "output_type": "execute_result",
          "data": {
            "text/plain": [
              "LinearRegression(copy_X=True, fit_intercept=True, n_jobs=None, normalize=False)"
            ]
          },
          "metadata": {
            "tags": []
          },
          "execution_count": 25
        }
      ]
    },
    {
      "cell_type": "code",
      "metadata": {
        "id": "aODlObdv01Ii",
        "outputId": "c5456233-2cd8-41a5-c2b2-ab854a8ced28",
        "colab": {
          "base_uri": "https://localhost:8080/",
          "height": 83
        }
      },
      "source": [
        "# Display intercept and Coefficient \n",
        "print('Intercept: \\n', regr.intercept_)\n",
        "print('Coefficients: \\n', regr.coef_)"
      ],
      "execution_count": 26,
      "outputs": [
        {
          "output_type": "stream",
          "text": [
            "Intercept: \n",
            " 306.5261932837436\n",
            "Coefficients: \n",
            " [-24.97508952  74.13095749]\n"
          ],
          "name": "stdout"
        }
      ]
    },
    {
      "cell_type": "markdown",
      "metadata": {
        "id": "jsYQAhUaOwtS"
      },
      "source": [
        "\n",
        "\n",
        "*   Intercept (often labeled the constant) is the expected mean value of Y when all X=0.Start with a regression equation with one predictor, X.If X sometimes equals 0, the intercept is simply the expected mean value of Y at that value. If X never equals 0, then the intercept has no intrinsic meaning. In scientific research, the purpose of a regression model is to understand the relationship between predictors and the response.  If so, and if X never = 0, there is no interest in the intercept. It doesn’t tell you anything about the relationship between X and Y.\n",
        "*   Coefficients are the values that multiply the predictor values.\n",
        "The sign of each coefficient indicates the direction of the relationship between a predictor variable and the response variable.\n",
        "\n",
        " - A positive sign indicates that as the predictor variable increases, the response variable also increases.\n",
        " - A negative sign indicates that as the predictor variable increases, the response variable decreases.\n",
        "\n"
      ]
    },
    {
      "cell_type": "code",
      "metadata": {
        "id": "ZDnl8uf-0-iH",
        "outputId": "4e99f3cd-f82f-4107-ff2c-f73725fdc7a6",
        "colab": {
          "base_uri": "https://localhost:8080/",
          "height": 210
        }
      },
      "source": [
        "# visualize again\n",
        "PairPlot = sns.PairGrid(datas, x_vars=['price','advertising'], y_vars=['pie_sales'])\n",
        "PairPlot.map(sns.regplot)"
      ],
      "execution_count": 27,
      "outputs": [
        {
          "output_type": "execute_result",
          "data": {
            "text/plain": [
              "<seaborn.axisgrid.PairGrid at 0x7fea0580c208>"
            ]
          },
          "metadata": {
            "tags": []
          },
          "execution_count": 27
        },
        {
          "output_type": "display_data",
          "data": {
            "image/png": "[encoded data removed]",
            "text/plain": [
              "<Figure size 360x180 with 2 Axes>"
            ]
          },
          "metadata": {
            "tags": [],
            "needs_background": "light"
          }
        }
      ]
    },
    {
      "cell_type": "markdown",
      "metadata": {
        "id": "a9XGy_e86aq3"
      },
      "source": [
        "We have 2 independent variable namely price and advertising which means there are 2 $\\beta$ in this regression. So, we can get this population multiple regression model: \n",
        "> $y = \\beta_0$ + $\\beta_1$*$x_1$ + $\\beta_2$*$x_2$ + $\\epsilon$\n",
        "\n",
        "Explanation:\n",
        "\n",
        "\n",
        "*   $\\beta_0$ : Y-Intercept\n",
        "*   $\\beta_1$*$x_1$, ...., $\\beta_2$*$x_n$ : Population Slopes\n",
        "*$\\epsilon$ : Random error\n",
        "\n",
        "> $y = 306.5261932837436-24.97508952*price +  74.13095749*advertising + \\epsilon$\n",
        "\n",
        "Estimated Multiple Regression Model\n",
        ">  $\\hat{y} = b_0 + b_1*x_1 + b_2*x_2$ \n",
        "\n",
        "explanation:\n",
        "\n",
        "\n",
        "*   $\\hat{y}$ : Estimated value of Y\n",
        "*   $b_0$ : Estimated intercept\n",
        "* $b_0 ,..., b_1$ :Estimated slope Coeficient\n",
        "\n",
        "\n",
        ">$\\hat{y} = 306.5261932837436-24.97508952*price +  74.13095749*advertising $\n",
        "\n",
        "\n",
        "\n",
        "\n",
        "\n",
        "\n",
        "\n"
      ]
    },
    {
      "cell_type": "markdown",
      "metadata": {
        "id": "BvwoVVAM3Ln4"
      },
      "source": [
        "**Regression Using Statsmodels**"
      ]
    },
    {
      "cell_type": "code",
      "metadata": {
        "id": "0IfQpvBg3LKP"
      },
      "source": [
        "# adding a constant\n",
        "x_int = sm.add_constant(x) "
      ],
      "execution_count": 30,
      "outputs": []
    },
    {
      "cell_type": "code",
      "metadata": {
        "id": "G3QwGLdo3fPT"
      },
      "source": [
        "model = sm.OLS(y, x_int).fit()\n",
        "predictions = model.predict() \n"
      ],
      "execution_count": null,
      "outputs": []
    },
    {
      "cell_type": "markdown",
      "metadata": {
        "id": "HzZe2zxkHKvy"
      },
      "source": [
        "# **Evaluation**"
      ]
    },
    {
      "cell_type": "code",
      "metadata": {
        "id": "FDhHLx40HSGm",
        "outputId": "06b310d8-39e0-4544-ef55-496f5f8def44",
        "colab": {
          "base_uri": "https://localhost:8080/",
          "height": 450
        }
      },
      "source": [
        "print_model = model.summary()\n",
        "print(print_model)"
      ],
      "execution_count": 33,
      "outputs": [
        {
          "output_type": "stream",
          "text": [
            "                            OLS Regression Results                            \n",
            "==============================================================================\n",
            "Dep. Variable:              pie_sales   R-squared:                       0.521\n",
            "Model:                            OLS   Adj. R-squared:                  0.442\n",
            "Method:                 Least Squares   F-statistic:                     6.539\n",
            "Date:                Fri, 23 Oct 2020   Prob (F-statistic):             0.0120\n",
            "Time:                        15:39:19   Log-Likelihood:                -77.510\n",
            "No. Observations:                  15   AIC:                             161.0\n",
            "Df Residuals:                      12   BIC:                             163.1\n",
            "Df Model:                           2                                         \n",
            "Covariance Type:            nonrobust                                         \n",
            "===============================================================================\n",
            "                  coef    std err          t      P>|t|      [0.025      0.975]\n",
            "-------------------------------------------------------------------------------\n",
            "const         306.5262    114.254      2.683      0.020      57.588     555.464\n",
            "price         -24.9751     10.832     -2.306      0.040     -48.576      -1.374\n",
            "advertising    74.1310     25.967      2.855      0.014      17.553     130.709\n",
            "==============================================================================\n",
            "Omnibus:                        1.505   Durbin-Watson:                   1.683\n",
            "Prob(Omnibus):                  0.471   Jarque-Bera (JB):                0.937\n",
            "Skew:                           0.595   Prob(JB):                        0.626\n",
            "Kurtosis:                       2.709   Cond. No.                         72.2\n",
            "==============================================================================\n",
            "\n",
            "Warnings:\n",
            "[1] Standard Errors assume that the covariance matrix of the errors is correctly specified.\n"
          ],
          "name": "stdout"
        }
      ]
    },
    {
      "cell_type": "markdown",
      "metadata": {
        "id": "fUSNX64HIxMV"
      },
      "source": [
        "R-squared ($R^2$) is a statistical measure that represents the proportion of the variance for a dependent variable that's explained by an independent variable or variables in a regression model. Whereas correlation explains the strength of the relationship between an independent and dependent variable, R-squared explains to what extent the variance of one variable explains the variance of the second variable.\n",
        "Based on summary above we can get R-Squared ($R^2$) value, 0.521.  which means our model can predict pie_sales using 2 independent variables price and advertising around 52,1 % and 48% influenced by another variable."
      ]
    },
    {
      "cell_type": "code",
      "metadata": {
        "id": "PKPTofiI2fRt",
        "outputId": "eb3552f3-cdd8-46fa-b96f-5f853ccb1175",
        "colab": {
          "base_uri": "https://localhost:8080/",
          "height": 66
        }
      },
      "source": [
        "# prediction with sklearn\n",
        "pr = float(input(\"Input Price : \"))\n",
        "ad = float(input(\"Input Advertising :\"))\n",
        "\n",
        "y = 306.5261932837436 - 24.97508952 * pr + 74.13095749 * ad\n",
        "\n",
        "print(\"Predicted Pie_sales : \", y)\n"
      ],
      "execution_count": 42,
      "outputs": [
        {
          "output_type": "stream",
          "text": [
            "Input Price : 8.6\n",
            "Input Advertising :4.6\n",
            "Predicted Pie_sales :  432.7428278657436\n"
          ],
          "name": "stdout"
        }
      ]
    },
    {
      "cell_type": "markdown",
      "metadata": {
        "id": "KlJ4m-c1PjWQ"
      },
      "source": [
        "**Reference**\n",
        "\n",
        "\n",
        "*   https://seaborn.pydata.org/tutorial/regression.html\n",
        "*   https://seaborn.pydata.org/tutorial/distributions.html\n",
        "*  https://www.theanalysisfactor.com/interpreting-the-intercept-in-a-regression-model/#:~:text=The%20intercept%20\n",
        "* https://www.investopedia.com/terms/r/r-squared.asp\n",
        "*https://statisticsbyjim.com/glossary/regression-coefficient/\n",
        "\n"
      ]
    }
  ]
}